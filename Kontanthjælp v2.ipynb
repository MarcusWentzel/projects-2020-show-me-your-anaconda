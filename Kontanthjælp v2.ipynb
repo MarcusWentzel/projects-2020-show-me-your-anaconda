{
 "cells": [
  {
   "cell_type": "code",
   "execution_count": 9,
   "metadata": {},
   "outputs": [],
   "source": [
    "import pandas as pd\n",
    "import numpy as np\n",
    "\n",
    "import pydst\n",
    "dst = pydst.Dst(lang = 'en')"
   ]
  },
  {
   "cell_type": "code",
   "execution_count": 10,
   "metadata": {},
   "outputs": [
    {
     "output_type": "execute_result",
     "data": {
      "text/plain": "            id              text  elimination   time                      map  \\\n0       OMRÅDE            region         True  False  denmark_municipality_07   \n1  YDELSESTYPE  type of benefits        False  False                      NaN   \n2    HERKOMST1   national origin         True  False                      NaN   \n3     HERKOMST          ancestry         True  False                      NaN   \n4          Tid              time        False   True                      NaN   \n\n                                              values  \n0  [{'id': '000', 'text': 'All Denmark'}, {'id': ...  \n1  [{'id': '10000', 'text': 'Social assistance be...  \n2  [{'id': 'TOT', 'text': 'Total'}, {'id': '1', '...  \n3  [{'id': '00', 'text': 'Total'}, {'id': '10', '...  \n4  [{'id': '2007', 'text': '2007'}, {'id': '2008'...  ",
      "text/html": "<div>\n<style scoped>\n    .dataframe tbody tr th:only-of-type {\n        vertical-align: middle;\n    }\n\n    .dataframe tbody tr th {\n        vertical-align: top;\n    }\n\n    .dataframe thead th {\n        text-align: right;\n    }\n</style>\n<table border=\"1\" class=\"dataframe\">\n  <thead>\n    <tr style=\"text-align: right;\">\n      <th></th>\n      <th>id</th>\n      <th>text</th>\n      <th>elimination</th>\n      <th>time</th>\n      <th>map</th>\n      <th>values</th>\n    </tr>\n  </thead>\n  <tbody>\n    <tr>\n      <td>0</td>\n      <td>OMRÅDE</td>\n      <td>region</td>\n      <td>True</td>\n      <td>False</td>\n      <td>denmark_municipality_07</td>\n      <td>[{'id': '000', 'text': 'All Denmark'}, {'id': ...</td>\n    </tr>\n    <tr>\n      <td>1</td>\n      <td>YDELSESTYPE</td>\n      <td>type of benefits</td>\n      <td>False</td>\n      <td>False</td>\n      <td>NaN</td>\n      <td>[{'id': '10000', 'text': 'Social assistance be...</td>\n    </tr>\n    <tr>\n      <td>2</td>\n      <td>HERKOMST1</td>\n      <td>national origin</td>\n      <td>True</td>\n      <td>False</td>\n      <td>NaN</td>\n      <td>[{'id': 'TOT', 'text': 'Total'}, {'id': '1', '...</td>\n    </tr>\n    <tr>\n      <td>3</td>\n      <td>HERKOMST</td>\n      <td>ancestry</td>\n      <td>True</td>\n      <td>False</td>\n      <td>NaN</td>\n      <td>[{'id': '00', 'text': 'Total'}, {'id': '10', '...</td>\n    </tr>\n    <tr>\n      <td>4</td>\n      <td>Tid</td>\n      <td>time</td>\n      <td>False</td>\n      <td>True</td>\n      <td>NaN</td>\n      <td>[{'id': '2007', 'text': '2007'}, {'id': '2008'...</td>\n    </tr>\n  </tbody>\n</table>\n</div>"
     },
     "metadata": {},
     "execution_count": 10
    }
   ],
   "source": [
    "kont_vars = dst.get_variables(table_id = 'KY038') # \n",
    "kont_vars"
   ]
  },
  {
   "cell_type": "code",
   "execution_count": 22,
   "metadata": {},
   "outputs": [
    {
     "output_type": "stream",
     "name": "stdout",
     "text": "OMRÅDE\n id = 000, text = All Denmark\n id = 084, text = Region Hovedstaden\n id = 01, text = Province Byen København\n id = 101, text = Copenhagen\n id = 147, text = Frederiksberg\n id = 155, text = Dragør\n id = 185, text = Tårnby\n id = 02, text = Province Københavns omegn\n id = 165, text = Albertslund\n id = 151, text = Ballerup\n id = 153, text = Brøndby\n id = 157, text = Gentofte\n id = 159, text = Gladsaxe\n id = 161, text = Glostrup\n id = 163, text = Herlev\n id = 167, text = Hvidovre\n id = 169, text = Høje-Taastrup\n id = 183, text = Ishøj\n id = 173, text = Lyngby-Taarbæk\n id = 175, text = Rødovre\n id = 187, text = Vallensbæk\n id = 03, text = Province Nordsjælland\n id = 201, text = Allerød\n id = 240, text = Egedal\n id = 210, text = Fredensborg\n id = 250, text = Frederikssund\n id = 190, text = Furesø\n id = 270, text = Gribskov\n id = 260, text = Halsnæs\n id = 217, text = Helsingør\n id = 219, text = Hillerød\n id = 223, text = Hørsholm\n id = 230, text = Rudersdal\n id = 04, text = Province Bornholm\n id = 400, text = Bornholm\n id = 085, text = Region Sjælland\n id = 05, text = Province Østsjælland\n id = 253, text = Greve\n id = 259, text = Køge\n id = 350, text = Lejre\n id = 265, text = Roskilde\n id = 269, text = Solrød\n id = 06, text = Province Vest- og Sydsjælland\n id = 320, text = Faxe\n id = 376, text = Guldborgsund\n id = 316, text = Holbæk\n id = 326, text = Kalundborg\n id = 360, text = Lolland\n id = 370, text = Næstved\n id = 306, text = Odsherred\n id = 329, text = Ringsted\n id = 330, text = Slagelse\n id = 340, text = Sorø\n id = 336, text = Stevns\n id = 390, text = Vordingborg\n id = 083, text = Region Syddanmark\n id = 07, text = Province Fyn\n id = 420, text = Assens\n id = 430, text = Faaborg-Midtfyn\n id = 440, text = Kerteminde\n id = 482, text = Langeland\n id = 410, text = Middelfart\n id = 480, text = Nordfyns\n id = 450, text = Nyborg\n id = 461, text = Odense\n id = 479, text = Svendborg\n id = 492, text = Ærø\n id = 08, text = Province Sydjylland\n id = 530, text = Billund\n id = 561, text = Esbjerg\n id = 563, text = Fanø\n id = 607, text = Fredericia\n id = 510, text = Haderslev\n id = 621, text = Kolding\n id = 540, text = Sønderborg\n id = 550, text = Tønder\n id = 573, text = Varde\n id = 575, text = Vejen\n id = 630, text = Vejle\n id = 580, text = Aabenraa\n id = 082, text = Region Midtjylland\n id = 09, text = Province Østjylland\n id = 710, text = Favrskov\n id = 766, text = Hedensted\n id = 615, text = Horsens\n id = 707, text = Norddjurs\n id = 727, text = Odder\n id = 730, text = Randers\n id = 741, text = Samsø\n id = 740, text = Silkeborg\n id = 746, text = Skanderborg\n id = 706, text = Syddjurs\n id = 751, text = Aarhus\n id = 10, text = Province Vestjylland\n id = 657, text = Herning\n id = 661, text = Holstebro\n id = 756, text = Ikast-Brande\n id = 665, text = Lemvig\n id = 760, text = Ringkøbing-Skjern\n id = 779, text = Skive\n id = 671, text = Struer\n id = 791, text = Viborg\n id = 081, text = Region Nordjylland\n id = 11, text = Province Nordjylland\n id = 810, text = Brønderslev\n id = 813, text = Frederikshavn\n id = 860, text = Hjørring\n id = 849, text = Jammerbugt\n id = 825, text = Læsø\n id = 846, text = Mariagerfjord\n id = 773, text = Morsø\n id = 840, text = Rebild\n id = 787, text = Thisted\n id = 820, text = Vesthimmerlands\n id = 851, text = Aalborg\n id = 998, text = Unknown municipality\n id = 997, text = Abroad\nYDELSESTYPE\n id = 10000, text = Social assistance benefits, total\n id = 10050, text = Recipients of social assistance, total\n id = 10025, text = Educational allowance, total\n id = 10060, text = Wage subsidies for persons receiving social assistance and educational allowance, total\n id = 10070, text = Social assistance and educational allowance  under pre-rehabilitation, total\n id = 10020, text = Social assistance and integration benefits for foreigners and others, total\n id = 10040, text = Rehabilitation benefit, total\n id = 10032, text = Cash benefits, total (October 2015 -)\n id = 10035, text = Labour market allowance, total (Januar 2014 -)\n id = 10030, text = Special educational allowance, total ( -January 2014)\nHERKOMST1\n id = TOT, text = Total\n id = 1, text = Persons of Danish origin\n id = 2, text = Western countries\n id = 9, text = Non-western countries\n id = 000, text = National origin, not stated\nHERKOMST\n id = 00, text = Total\n id = 10, text = Persons of Danish origin\n id = 20, text = Immigrants\n id = 30, text = Descendants\n id = 40, text = Not stated\nTid\n id = 2007, text = 2007\n id = 2008, text = 2008\n id = 2009, text = 2009\n id = 2010, text = 2010\n id = 2011, text = 2011\n id = 2012, text = 2012\n id = 2013, text = 2013\n id = 2014, text = 2014\n id = 2015, text = 2015\n id = 2016, text = 2016\n id = 2017, text = 2017\n id = 2018, text = 2018\n"
    }
   ],
   "source": [
    "kont_vars = dst.get_variables(table_id = 'KY038')\n",
    "for id in ['OMRÅDE','YDELSESTYPE','HERKOMST1','HERKOMST', 'Tid']:\n",
    "    print(id)\n",
    "    values = kont_vars.loc[kont_vars.id == id,['values']].values[0,0]\n",
    "    for value in values:      \n",
    "        print(f' id = {value[\"id\"]}, text = {value[\"text\"]}')"
   ]
  },
  {
   "cell_type": "code",
   "execution_count": 24,
   "metadata": {},
   "outputs": [],
   "source": []
  },
  {
   "cell_type": "code",
   "execution_count": 32,
   "metadata": {},
   "outputs": [
    {
     "output_type": "execute_result",
     "data": {
      "text/plain": "     MUNICIPALITY                     SOCIAL BENEFIT HERKOMST HERKOMST1  YEAR  \\\n0        Aabenraa  Social assistance benefits, total    Total     Total  2007   \n1        Aabenraa  Social assistance benefits, total    Total     Total  2008   \n2        Aabenraa  Social assistance benefits, total    Total     Total  2009   \n3        Aabenraa  Social assistance benefits, total    Total     Total  2010   \n4        Aabenraa  Social assistance benefits, total    Total     Total  2011   \n...           ...                                ...      ...       ...   ...   \n1195          Ærø  Social assistance benefits, total    Total     Total  2014   \n1196          Ærø  Social assistance benefits, total    Total     Total  2015   \n1197          Ærø  Social assistance benefits, total    Total     Total  2016   \n1198          Ærø  Social assistance benefits, total    Total     Total  2017   \n1199          Ærø  Social assistance benefits, total    Total     Total  2018   \n\n      COUNT  \n0       999  \n1      1018  \n2      1213  \n3      1351  \n4      1312  \n...     ...  \n1195    119  \n1196    114  \n1197    123  \n1198    131  \n1199    117  \n\n[1200 rows x 6 columns]",
      "text/html": "<div>\n<style scoped>\n    .dataframe tbody tr th:only-of-type {\n        vertical-align: middle;\n    }\n\n    .dataframe tbody tr th {\n        vertical-align: top;\n    }\n\n    .dataframe thead th {\n        text-align: right;\n    }\n</style>\n<table border=\"1\" class=\"dataframe\">\n  <thead>\n    <tr style=\"text-align: right;\">\n      <th></th>\n      <th>MUNICIPALITY</th>\n      <th>SOCIAL BENEFIT</th>\n      <th>HERKOMST</th>\n      <th>HERKOMST1</th>\n      <th>YEAR</th>\n      <th>COUNT</th>\n    </tr>\n  </thead>\n  <tbody>\n    <tr>\n      <td>0</td>\n      <td>Aabenraa</td>\n      <td>Social assistance benefits, total</td>\n      <td>Total</td>\n      <td>Total</td>\n      <td>2007</td>\n      <td>999</td>\n    </tr>\n    <tr>\n      <td>1</td>\n      <td>Aabenraa</td>\n      <td>Social assistance benefits, total</td>\n      <td>Total</td>\n      <td>Total</td>\n      <td>2008</td>\n      <td>1018</td>\n    </tr>\n    <tr>\n      <td>2</td>\n      <td>Aabenraa</td>\n      <td>Social assistance benefits, total</td>\n      <td>Total</td>\n      <td>Total</td>\n      <td>2009</td>\n      <td>1213</td>\n    </tr>\n    <tr>\n      <td>3</td>\n      <td>Aabenraa</td>\n      <td>Social assistance benefits, total</td>\n      <td>Total</td>\n      <td>Total</td>\n      <td>2010</td>\n      <td>1351</td>\n    </tr>\n    <tr>\n      <td>4</td>\n      <td>Aabenraa</td>\n      <td>Social assistance benefits, total</td>\n      <td>Total</td>\n      <td>Total</td>\n      <td>2011</td>\n      <td>1312</td>\n    </tr>\n    <tr>\n      <td>...</td>\n      <td>...</td>\n      <td>...</td>\n      <td>...</td>\n      <td>...</td>\n      <td>...</td>\n      <td>...</td>\n    </tr>\n    <tr>\n      <td>1195</td>\n      <td>Ærø</td>\n      <td>Social assistance benefits, total</td>\n      <td>Total</td>\n      <td>Total</td>\n      <td>2014</td>\n      <td>119</td>\n    </tr>\n    <tr>\n      <td>1196</td>\n      <td>Ærø</td>\n      <td>Social assistance benefits, total</td>\n      <td>Total</td>\n      <td>Total</td>\n      <td>2015</td>\n      <td>114</td>\n    </tr>\n    <tr>\n      <td>1197</td>\n      <td>Ærø</td>\n      <td>Social assistance benefits, total</td>\n      <td>Total</td>\n      <td>Total</td>\n      <td>2016</td>\n      <td>123</td>\n    </tr>\n    <tr>\n      <td>1198</td>\n      <td>Ærø</td>\n      <td>Social assistance benefits, total</td>\n      <td>Total</td>\n      <td>Total</td>\n      <td>2017</td>\n      <td>131</td>\n    </tr>\n    <tr>\n      <td>1199</td>\n      <td>Ærø</td>\n      <td>Social assistance benefits, total</td>\n      <td>Total</td>\n      <td>Total</td>\n      <td>2018</td>\n      <td>117</td>\n    </tr>\n  </tbody>\n</table>\n<p>1200 rows × 6 columns</p>\n</div>"
     },
     "metadata": {},
     "execution_count": 32
    }
   ],
   "source": [
    "\n",
    "regioner = ['Region Hovedstaden', 'Region Midtjylland', 'Region Nordjylland', 'Region Sjælland', 'Region Syddanmark', 'All Denmark', 'Province Byen København', 'Province Københavns omegn', 'Province Nordsjælland', 'Province Bornholm', 'Province Østsjælland', 'Province Vest- og Sydsjælland', 'Province Sydjylland', 'Province Østjylland','Province Vestjylland', 'Province Nordjylland']\n",
    "\n",
    "KY = KY038.drop(regioner, axis = 1)\n",
    "\n",
    "\n",
    "\n",
    "KY038_sort = KY.sort_values(['OMRÅDE', 'TID']) # Sortere på Område og ÅR\n",
    "KY038_sort.drop(['HERKOMST', 'HERKOMST1'], axis = 1) # Dropper variable \n",
    "KY038_sort.reset_index(inplace = True)\n",
    "KY038_sort.rename(columns = {'OMRÅDE': 'MUNICIPALITY', 'YDELSESTYPE': 'SOCIAL BENEFIT','TID':'YEAR', 'INDHOLD': 'COUNT'}, inplace = True)\n",
    "\n",
    "KY038_sort"
   ]
  },
  {
   "cell_type": "code",
   "execution_count": null,
   "metadata": {},
   "outputs": [],
   "source": []
  },
  {
   "cell_type": "code",
   "execution_count": null,
   "metadata": {},
   "outputs": [],
   "source": []
  },
  {
   "cell_type": "code",
   "execution_count": null,
   "metadata": {},
   "outputs": [],
   "source": []
  },
  {
   "cell_type": "code",
   "execution_count": null,
   "metadata": {},
   "outputs": [],
   "source": []
  },
  {
   "cell_type": "code",
   "execution_count": null,
   "metadata": {},
   "outputs": [],
   "source": []
  }
 ],
 "metadata": {
  "kernelspec": {
   "display_name": "Python 3",
   "language": "python",
   "name": "python3"
  },
  "language_info": {
   "codemirror_mode": {
    "name": "ipython",
    "version": 3
   },
   "file_extension": ".py",
   "mimetype": "text/x-python",
   "name": "python",
   "nbconvert_exporter": "python",
   "pygments_lexer": "ipython3",
   "version": "3.7.4-final"
  }
 },
 "nbformat": 4,
 "nbformat_minor": 2
}