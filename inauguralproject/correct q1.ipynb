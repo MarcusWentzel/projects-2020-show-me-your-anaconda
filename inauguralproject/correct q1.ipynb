{
 "cells": [
  {
   "cell_type": "code",
   "execution_count": 271,
   "metadata": {},
   "outputs": [
    {
     "name": "stdout",
     "output_type": "stream",
     "text": [
      "The autoreload extension is already loaded. To reload it, use:\n",
      "  %reload_ext autoreload\n"
     ]
    }
   ],
   "source": [
    "import numpy as np\n",
    "from scipy import optimize\n",
    "import matplotlib.pyplot as plt # baseline modul\n",
    "\n",
    "# autoreload modules when code is run\n",
    "%load_ext autoreload\n",
    "%autoreload 2"
   ]
  },
  {
   "cell_type": "code",
   "execution_count": 374,
   "metadata": {},
   "outputs": [],
   "source": [
    "m=1\n",
    "v=10\n",
    "eps=0.3\n",
    "tau_0=0.4\n",
    "tau_1=0.1\n",
    "kappa=0.4"
   ]
  },
  {
   "cell_type": "code",
   "execution_count": 375,
   "metadata": {},
   "outputs": [],
   "source": [
    "def utility(x_0):\n",
    "    c = x_0[0]\n",
    "    l = x_0[1]\n",
    "    u = np.log(c) - v*(l**(1+1/eps)/(1+1/eps))\n",
    "    return u"
   ]
  },
  {
   "cell_type": "code",
   "execution_count": 376,
   "metadata": {},
   "outputs": [],
   "source": [
    "def constraint(x_0):\n",
    "    w = x_0[0]\n",
    "    l = x_0[1]\n",
    "    x = m + w*l - (tau_0*w*l + tau_1*np.max(w*l-kappa,0))\n",
    "    return x"
   ]
  },
  {
   "cell_type": "code",
   "execution_count": 377,
   "metadata": {},
   "outputs": [],
   "source": [
    "def eq(x_0):\n",
    "    w = x_0[0]\n",
    "    l = x_0[1]\n",
    "    c = x_0[2]\n",
    "    c = m + w*l - (tau_0*w*l + tau_1*np.max(w*l-kappa,0))\n",
    "    return -utility(x_0)"
   ]
  },
  {
   "cell_type": "code",
   "execution_count": 378,
   "metadata": {},
   "outputs": [
    {
     "name": "stdout",
     "output_type": "stream",
     "text": [
      "Optimization terminated successfully.\n"
     ]
    }
   ],
   "source": [
    "x0 = [1,0.25,1]\n",
    "bounds = ((0.5,1.5),(0,1),(0,1.5))\n",
    "con1 = {\"type\":\"ineq\", \"fun\":constraint}\n",
    "con2 = {\"type\":\"eq\", \"fun\":eq}\n",
    "cons = [con1, con2]\n",
    "\n",
    "res = optimize.minimize(eq, x0, bounds=bounds,constraints=cons, method='SLSQP')\n",
    "print(res.message)"
   ]
  },
  {
   "cell_type": "code",
   "execution_count": 379,
   "metadata": {},
   "outputs": [
    {
     "name": "stdout",
     "output_type": "stream",
     "text": [
      "optimal wage rate: 1.01\n",
      "optimal labour supply: 0.25\n",
      "optimal consumption: 1.00\n",
      "utility: 0.0000000001\n"
     ]
    }
   ],
   "source": [
    "utility_opt = res.fun\n",
    "w_star, l_star, c_star = res.x\n",
    "print(f'optimal wage rate: {w_star:.2f}')\n",
    "print(f'optimal labour supply: {l_star:.2f}')\n",
    "print(f'optimal consumption: {c_star:.2f}')\n",
    "print(f'utility: {utility_opt:.10f}')"
   ]
  },
  {
   "cell_type": "code",
   "execution_count": null,
   "metadata": {},
   "outputs": [],
   "source": []
  }
 ],
 "metadata": {
  "kernelspec": {
   "display_name": "Python 3",
   "language": "python",
   "name": "python3"
  },
  "language_info": {
   "codemirror_mode": {
    "name": "ipython",
    "version": 3
   },
   "file_extension": ".py",
   "mimetype": "text/x-python",
   "name": "python",
   "nbconvert_exporter": "python",
   "pygments_lexer": "ipython3",
   "version": "3.7.4"
  }
 },
 "nbformat": 4,
 "nbformat_minor": 4
}
