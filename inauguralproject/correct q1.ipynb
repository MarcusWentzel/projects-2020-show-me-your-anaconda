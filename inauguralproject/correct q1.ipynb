{
 "cells": [
  {
   "cell_type": "code",
   "execution_count": 1,
   "metadata": {},
   "outputs": [],
   "source": [
    "import numpy as np\n",
    "from scipy import optimize\n",
    "import matplotlib.pyplot as plt # baseline modul\n",
    "from mpl_toolkits.mplot3d import Axes3D # for 3d figures\n",
    "from matplotlib import cm # for colormaps\n",
    "\n",
    "# autoreload modules when code is run\n",
    "%load_ext autoreload\n",
    "%autoreload 2"
   ]
  },
  {
   "cell_type": "code",
   "execution_count": 2,
   "metadata": {},
   "outputs": [],
   "source": [
    "# defining parameters\n",
    "m = 1 #cash-on-hand\n",
    "v = 10 #disutility of labor\n",
    "eps = 0.3 #elasticity of labor supply\n",
    "tau_0 = 0.4 #standard labor income tax\n",
    "tau_1 = 0.1 #top bracket labor income tax\n",
    "kappa = 0.4 #cut-off for top labor income tax\n",
    "w = 1"
   ]
  },
  {
   "cell_type": "code",
   "execution_count": 3,
   "metadata": {},
   "outputs": [],
   "source": [
    "# Defining utility\n",
    "\n",
    "def utility(c,l):\n",
    "    u = np.log(c)-v*l**(1+1/eps)/(1+1/eps)\n",
    "    return u"
   ]
  },
  {
   "cell_type": "code",
   "execution_count": 4,
   "metadata": {},
   "outputs": [],
   "source": [
    "def budget_constraint(l,w):\n",
    "    con = m + w*l - (tau_0*w*l + tau_1*np.max(w*l-kappa,0))\n",
    "    return con"
   ]
  },
  {
   "cell_type": "code",
   "execution_count": 5,
   "metadata": {},
   "outputs": [],
   "source": [
    "# Defining equality \n",
    "\n",
    "def eq(l,w):\n",
    "    c = budget_constraint(l,w)\n",
    "    return -utility(c,l)"
   ]
  },
  {
   "cell_type": "code",
   "execution_count": 6,
   "metadata": {},
   "outputs": [
    {
     "name": "stdout",
     "output_type": "stream",
     "text": [
      "Solution found.\n"
     ]
    }
   ],
   "source": [
    "res = optimize.minimize_scalar(eq,bounds=(0,1),args=(w),method=\"bounded\")\n",
    "print(res.message)\n",
    "l_star = res.x\n",
    "c_star = budget_constraint(l_star,w)\n",
    "utility_opt = utility(c_star,l_star)"
   ]
  },
  {
   "cell_type": "code",
   "execution_count": 20,
   "metadata": {},
   "outputs": [
    {
     "name": "stdout",
     "output_type": "stream",
     "text": [
      "Optimal labour supply: 1.00\n",
      "Optimal consumption: 1.00\n",
      "Utility: 0.17\n"
     ]
    }
   ],
   "source": [
    "# Results\n",
    "\n",
    "print(f'Optimal labour supply: {l_star:.2f}')\n",
    "print(f'Optimal consumption: {c_star:.2f}')\n",
    "print(f'Utility: {utility_opt:.2f}')"
   ]
  },
  {
   "cell_type": "code",
   "execution_count": 8,
   "metadata": {},
   "outputs": [],
   "source": [
    "#question 2\n",
    "\n",
    "N=1000\n",
    "w_values = np.linspace(0.5,1.5,N)\n",
    "l_values = np.empty(N)\n",
    "c_values = np.empty(N)\n",
    "\n",
    "for i,w in enumerate(w_values):\n",
    "    result = optimize.minimize_scalar(eq,bounds=(0,1),args=(w),method=\"bounded\")\n",
    "    l_values[i] = result.x\n",
    "    c_values[i] = budget_constraint(l_values[i],w)"
   ]
  },
  {
   "cell_type": "code",
   "execution_count": 9,
   "metadata": {},
   "outputs": [
    {
     "data": {
      "text/plain": [
       "<function matplotlib.pyplot.show(*args, **kw)>"
      ]
     },
     "execution_count": 9,
     "metadata": {},
     "output_type": "execute_result"
    },
    {
     "data": {
      "image/png": "[encoded data removed]",
      "text/plain": [
       "<Figure size 720x288 with 2 Axes>"
      ]
     },
     "metadata": {},
     "output_type": "display_data"
    }
   ],
   "source": [
    "plt.style.use('seaborn')\n",
    "fig = plt.figure(figsize=(10,4))\n",
    "\n",
    "#subplot 1\n",
    "ax_left = fig.add_subplot(1,2,1)\n",
    "\n",
    "ax_left.plot(w_values,l_values)\n",
    "\n",
    "\n",
    "ax_left.set_title('Optimal labour supply given wage')\n",
    "ax_left.set_xlabel('$w$')\n",
    "ax_left.set_ylabel('$l^\\star$')\n",
    "ax_left.grid(True)\n",
    "\n",
    "#subplot 2\n",
    "ax_right = fig.add_subplot(1,2,2)\n",
    "\n",
    "ax_right.plot(w_values, c_values)\n",
    "\n",
    "\n",
    "ax_right.set_title('Optimal consumption given wage')\n",
    "ax_right.set_xlabel('$w$')\n",
    "ax_right.set_ylabel('$c^\\star$')\n",
    "ax_right.grid(True)\n",
    "\n",
    "plt.show"
   ]
  },
  {
   "cell_type": "code",
   "execution_count": 10,
   "metadata": {},
   "outputs": [
    {
     "name": "stdout",
     "output_type": "stream",
     "text": [
      "The total tax revenue is equal to: 177.54\n"
     ]
    }
   ],
   "source": [
    "# question 3\n",
    "def tax_rev(w_values,l_values,tau_0,tau_1,kappa):\n",
    "    rev = np.sum(tau_0*w_values*l_values + tau_1*np.max(w_values*l_values-kappa,0))\n",
    "    return rev\n",
    "\n",
    "print(f'The total tax revenue is equal to: {tax_rev(w_values,l_values,tau_0,tau_1,kappa):.2f}')"
   ]
  },
  {
   "cell_type": "code",
   "execution_count": 25,
   "metadata": {},
   "outputs": [
    {
     "name": "stdout",
     "output_type": "stream",
     "text": [
      "The total tax revenue is equal to: -40.00\n"
     ]
    }
   ],
   "source": [
    "# question 4\n",
    "eps = 0.1\n",
    "\n",
    "l_values_new = np.empty(N)\n",
    "for i,w in enumerate(w_values):\n",
    "    result = optimize.minimize_scalar(eq,bounds=(0,1),args=(w),method=\"bounded\")\n",
    "    l_values[i] = result.x\n",
    "    c_values[i] = budget_constraint(l_values[i],w)\n",
    "    \n",
    "print(f'The total tax revenue is equal to: {tax_rev(w_values,l_values_new,tau_0,tau_1,kappa):.2f}')"
   ]
  },
  {
   "cell_type": "code",
   "execution_count": 15,
   "metadata": {},
   "outputs": [],
   "source": [
    "def tax_opt(x):\n",
    "    tau_0 = x[0]\n",
    "    tau_1 = x[1]\n",
    "    kappa = x[2]\n",
    "    w = x[3]\n",
    "    l = x[4]\n",
    "    rev = np.sum(tau_0*w*l + tau_1*np.max(w*l-kappa,0))\n",
    "    return rev\n",
    "\n",
    "def objective(x):\n",
    "    return -tax_opt(x)"
   ]
  },
  {
   "cell_type": "code",
   "execution_count": 16,
   "metadata": {},
   "outputs": [],
   "source": [
    "def budget_constraint_tax(x):\n",
    "    tau_0 = x[2]\n",
    "    tau_1 = x[3]\n",
    "    kappa = x[4]\n",
    "    con = m + x[0]*x[1] - (x[2]*x[0]*x[1] + x[3]*np.max(x[0]*x[1]-x[4],0))\n",
    "    return con"
   ]
  },
  {
   "cell_type": "code",
   "execution_count": 17,
   "metadata": {},
   "outputs": [],
   "source": [
    "def eq_tax(x):\n",
    "    w = x[0]\n",
    "    l = x[1]\n",
    "    c = budget_constraint_tax(x)\n",
    "    return -objective(x)"
   ]
  },
  {
   "cell_type": "code",
   "execution_count": 18,
   "metadata": {},
   "outputs": [
    {
     "name": "stdout",
     "output_type": "stream",
     "text": [
      "Optimization terminated successfully.\n"
     ]
    }
   ],
   "source": [
    "\n",
    "x0 = [1, 1, 1, 1, 1]\n",
    "constraint = ({\"type\":\"ineq\",\"fun\":budget_constraint_tax})\n",
    "bounds = ((0.5,1.5),(0,1),(0,1),(0,1),(0,1))\n",
    "\n",
    "tax_res = optimize.minimize(eq_tax, x0, bounds=bounds,constraints=constraint, method='SLSQP')\n",
    "print(tax_res.message)\n",
    "w_star = tax_res.x[0]\n",
    "l_star = tax_res.x[1]\n",
    "tau_0_star = tax_res.x[2]\n",
    "tau_1_star = tax_res.x[3]\n",
    "kappa_star = tax_res.x[4]\n",
    "c_star = budget_constraint_tax(tax_res.x)\n",
    "utility_opt_tax = utility(c_star,l_star)\n",
    "tax_rev_opt = tax_rev(w_values,l_values,tau_0_star,tau_1_star,kappa_star)\n"
   ]
  },
  {
   "cell_type": "code",
   "execution_count": 22,
   "metadata": {},
   "outputs": [
    {
     "name": "stdout",
     "output_type": "stream",
     "text": [
      "Standard labor income is equal to: 1.00\n",
      "Top bracket labor income is equal to: 0.00\n",
      "Cut-off for top labor income is equal to: 0.00\n",
      "The total tax revenue is equal to: 718.46\n"
     ]
    }
   ],
   "source": [
    "print(f'Standard labor income is equal to: {tau_0_star:.2f}')\n",
    "print(f'Top bracket labor income is equal to: {tau_1_star:.2f}')\n",
    "print(f'Cut-off for top labor income is equal to: {tau_1_star:.2f}')\n",
    "print(f'The total tax revenue is equal to: {tax_rev_opt:.2f}')"
   ]
  }
 ],
 "metadata": {
  "kernelspec": {
   "display_name": "Python 3",
   "language": "python",
   "name": "python3"
  },
  "language_info": {
   "codemirror_mode": {
    "name": "ipython",
    "version": 3
   },
   "file_extension": ".py",
   "mimetype": "text/x-python",
   "name": "python",
   "nbconvert_exporter": "python",
   "pygments_lexer": "ipython3",
   "version": "3.7.4"
  }
 },
 "nbformat": 4,
 "nbformat_minor": 4
}
