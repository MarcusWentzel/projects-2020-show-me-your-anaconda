{
 "cells": [
  {
   "cell_type": "code",
   "execution_count": 148,
   "metadata": {},
   "outputs": [],
   "source": [
    "import numpy as np\n",
    "from scipy import linalg\n",
    "from scipy import optimize\n",
    "import sympy as sm\n",
    "import matplotlib.pyplot as plt\n",
    "plt.style.use('seaborn')"
   ]
  },
  {
   "cell_type": "markdown",
   "metadata": {},
   "source": [
    "# Overlapping Generation Model (OLG)"
   ]
  },
  {
   "cell_type": "markdown",
   "metadata": {},
   "source": [
    "## Model setup"
   ]
  },
  {
   "cell_type": "markdown",
   "metadata": {},
   "source": [
    "In this setup the economy is populated by agents that live for 2 periods agents i.e. $t = 1,2$. $L_t$ individuals are born in period t and  the population is assumed to grow at rate n:\n",
    "\n",
    "$$ L_t = L_{t-1}(1+n) $$\n",
    "\n",
    "We assume agents derive utility from consumption while alive and log-preferences:\n",
    "\n",
    "$$ U_t = u(c_{1t}) + \\frac{1}{1+\\rho} u(c_{2t+1}) $$\n",
    "\n",
    "where \n",
    "* $c_{1t}$ denotes consumption when the agent is young at time t\n",
    "* $c_{2t+1}$ denotes consumption when the agent is old at time t+1\n",
    "* $\\rho$ is the discount rate\n",
    "* $u(x) = \\log{x}$\n",
    "\n",
    "While young, agents supply 1 unit of labor inelastically at wage rate $w_t$ which is split into consumption $c_{1t}$ and savings $s_t$. When old they consume their gross savings where. The interest rate earned from $t$ to $t+1$ is given by $r_{t+1}$. Thus, agents face the following budget constraints:\n",
    "\n",
    "$$ c_{1t} + s_t = w_t $$\n",
    "$$ c_{2t+1} = (1+r_{t+1}) s_t $$\n",
    "\n",
    "It follows that the lifetime budget constraint is given by:\n",
    "\n",
    "$$ c_{1t} + \\frac{c_{2t+1}}{1+r_{t+1}} = w_t $$\n",
    "\n",
    "The firms of the economy is assumed to be characterized by Cobb-Douglas production technology where the inputs are used are capital $K$ and labor $L$ to obtain output $Y$:\n",
    "\n",
    "$$ f(K,L) = Y = K^\\alpha L^{1-\\alpha},      \\alpha \\in (0,1) $$"
   ]
  },
  {
   "cell_type": "markdown",
   "metadata": {},
   "source": [
    "## Analytical solution"
   ]
  },
  {
   "cell_type": "markdown",
   "metadata": {},
   "source": [
    "### Households' problem"
   ]
  },
  {
   "cell_type": "markdown",
   "metadata": {},
   "source": [
    "First, define lifetime utility:"
   ]
  },
  {
   "cell_type": "code",
   "execution_count": 149,
   "metadata": {},
   "outputs": [
    {
     "data": {
      "text/latex": [
       "$\\displaystyle \\log{\\left(c_{1t} \\right)} + \\frac{\\log{\\left(c_{2t+1} \\right)}}{\\rho + 1}$"
      ],
      "text/plain": [
       "log(c_1t) + log(c_2t+1)/(rho + 1)"
      ]
     },
     "metadata": {},
     "output_type": "display_data"
    }
   ],
   "source": [
    "#Initialize variabels in Sympy\n",
    "c1 = sm.symbols('c_1t')\n",
    "c2 = sm.symbols('c_2t+1')\n",
    "rho = sm.symbols('rho')\n",
    "\n",
    "#Setup utility\n",
    "uc1 = sm.ln(c1)\n",
    "uc2 = sm.ln(c2)\n",
    "U = uc1 + 1/(1+rho) * uc2\n",
    "display(U)"
   ]
  },
  {
   "cell_type": "markdown",
   "metadata": {},
   "source": [
    "Next, setup the budget constraint (BC):"
   ]
  },
  {
   "cell_type": "code",
   "execution_count": 150,
   "metadata": {},
   "outputs": [
    {
     "data": {
      "text/latex": [
       "$\\displaystyle c_{1t} + \\frac{c_{2t+1}}{r_{t+1} + 1} - w_{t}$"
      ],
      "text/plain": [
       "c_1t + c_2t+1/(r_t+1 + 1) - w_t"
      ]
     },
     "metadata": {},
     "output_type": "display_data"
    }
   ],
   "source": [
    "#Initialize variabels in Sympy\n",
    "wt = sm.symbols('w_t')\n",
    "rt1 = sm.symbols('r_t+1')\n",
    "\n",
    "#Setup BC\n",
    "bc = c1 + c2 / (1+rt1) - wt\n",
    "display(bc)"
   ]
  },
  {
   "cell_type": "markdown",
   "metadata": {},
   "source": [
    "Now, setup the Langrangian"
   ]
  },
  {
   "cell_type": "code",
   "execution_count": 151,
   "metadata": {},
   "outputs": [
    {
     "data": {
      "text/latex": [
       "$\\displaystyle - \\lambda \\left(c_{1t} + \\frac{c_{2t+1}}{r_{t+1} + 1} - w_{t}\\right) + \\log{\\left(c_{1t} \\right)} + \\frac{\\log{\\left(c_{2t+1} \\right)}}{\\rho + 1}$"
      ],
      "text/plain": [
       "-lambda*(c_1t + c_2t+1/(r_t+1 + 1) - w_t) + log(c_1t) + log(c_2t+1)/(rho + 1)"
      ]
     },
     "metadata": {},
     "output_type": "display_data"
    }
   ],
   "source": [
    "#Initialize variabels in Sympy\n",
    "lamb = sm.symbols('lambda')\n",
    "\n",
    "#Setup Lagrangian\n",
    "L = U + lamb * (-1)*bc\n",
    "display(L)"
   ]
  },
  {
   "cell_type": "markdown",
   "metadata": {},
   "source": [
    "Setup first order conditions (FOC)"
   ]
  },
  {
   "cell_type": "code",
   "execution_count": 152,
   "metadata": {},
   "outputs": [
    {
     "data": {
      "text/latex": [
       "$\\displaystyle 0 = - \\lambda + \\frac{1}{c_{1t}}$"
      ],
      "text/plain": [
       "Eq(0, -lambda + 1/c_1t)"
      ]
     },
     "metadata": {},
     "output_type": "display_data"
    },
    {
     "data": {
      "text/latex": [
       "$\\displaystyle 0 = - \\frac{\\lambda}{r_{t+1} + 1} + \\frac{1}{c_{2t+1} \\left(\\rho + 1\\right)}$"
      ],
      "text/plain": [
       "Eq(0, -lambda/(r_t+1 + 1) + 1/(c_2t+1*(rho + 1)))"
      ]
     },
     "metadata": {},
     "output_type": "display_data"
    }
   ],
   "source": [
    "foc1 = sm.Eq(0,sm.diff(L,c1))\n",
    "foc2 = sm.Eq(0,sm.diff(L,c2))\n",
    "display(foc1)\n",
    "display(foc2)"
   ]
  },
  {
   "cell_type": "markdown",
   "metadata": {},
   "source": [
    "Solve for the lagrangian multiplier lambda"
   ]
  },
  {
   "cell_type": "code",
   "execution_count": 153,
   "metadata": {},
   "outputs": [
    {
     "data": {
      "text/latex": [
       "$\\displaystyle \\frac{1}{c_{1t}}$"
      ],
      "text/plain": [
       "1/c_1t"
      ]
     },
     "metadata": {},
     "output_type": "display_data"
    },
    {
     "data": {
      "text/latex": [
       "$\\displaystyle \\frac{r_{t+1} + 1}{c_{2t+1} \\left(\\rho + 1\\right)}$"
      ],
      "text/plain": [
       "(r_t+1 + 1)/(c_2t+1*(rho + 1))"
      ]
     },
     "metadata": {},
     "output_type": "display_data"
    }
   ],
   "source": [
    "lam1 = sm.solve(foc1,lamb)[0]\n",
    "lam2 = sm.solve(foc2,lamb)[0]\n",
    "display(lam1)\n",
    "display(lam2)"
   ]
  },
  {
   "cell_type": "markdown",
   "metadata": {},
   "source": [
    "Thus, the Euler-equation is given by:"
   ]
  },
  {
   "cell_type": "code",
   "execution_count": 154,
   "metadata": {},
   "outputs": [
    {
     "data": {
      "text/latex": [
       "$\\displaystyle \\frac{c_{2t+1} \\left(\\rho + 1\\right)}{r_{t+1} + 1} = c_{1t}$"
      ],
      "text/plain": [
       "Eq(c_2t+1*(rho + 1)/(r_t+1 + 1), c_1t)"
      ]
     },
     "metadata": {},
     "output_type": "display_data"
    }
   ],
   "source": [
    "euler1 = sm.solve(sm.Eq(lam1,lam2),c1)[0] #Equate lambdas and solve\n",
    "euler2 = sm.Eq(euler1, c1)\n",
    "display(euler2)"
   ]
  },
  {
   "cell_type": "markdown",
   "metadata": {},
   "source": [
    "Replacing per period BC in the Euler and solving for $s_t$ will characterize individual\n",
    "savings behavior"
   ]
  },
  {
   "cell_type": "code",
   "execution_count": 155,
   "metadata": {},
   "outputs": [
    {
     "data": {
      "text/latex": [
       "$\\displaystyle s_{t} \\left(\\rho + 1\\right) = - s_{t} + w_{t}$"
      ],
      "text/plain": [
       "Eq(s_t*(rho + 1), -s_t + w_t)"
      ]
     },
     "metadata": {},
     "output_type": "display_data"
    }
   ],
   "source": [
    "#Initialize variabels in Sympy\n",
    "st = sm.symbols('s_t')\n",
    "\n",
    "#Setup per period BC\n",
    "bc1 = wt-st\n",
    "bc2 = (1+rt1)*st\n",
    "\n",
    "#Replace\n",
    "euler3 = euler2.subs(c1,bc1)\n",
    "euler4 = euler3.subs(c2,bc2)\n",
    "display(euler4)"
   ]
  },
  {
   "cell_type": "markdown",
   "metadata": {},
   "source": [
    "Solve for optimal savingsbehaviour:"
   ]
  },
  {
   "cell_type": "code",
   "execution_count": 156,
   "metadata": {},
   "outputs": [
    {
     "data": {
      "text/latex": [
       "$\\displaystyle \\frac{w_{t}}{\\rho + 2} = s_{t}$"
      ],
      "text/plain": [
       "Eq(w_t/(rho + 2), s_t)"
      ]
     },
     "metadata": {},
     "output_type": "display_data"
    }
   ],
   "source": [
    "saving = sm.solve(euler4,st)[0] #Solve\n",
    "opt_saving = sm.Eq(saving, st) #equate with s_t\n",
    "display(opt_saving)"
   ]
  },
  {
   "cell_type": "markdown",
   "metadata": {},
   "source": [
    "### Firms' problem"
   ]
  },
  {
   "cell_type": "markdown",
   "metadata": {},
   "source": [
    "Firms take prices as given and hence, maximize profit $\\Pi$ given by cf. theory section:\n",
    "$$ \\Pi = K^\\alpha_t L^{1-\\alpha}_t - r_t K_t - w_t L_t $$\n",
    "First, setup the production function:"
   ]
  },
  {
   "cell_type": "code",
   "execution_count": 157,
   "metadata": {},
   "outputs": [
    {
     "data": {
      "text/latex": [
       "$\\displaystyle K_{t}^{\\alpha} L_{t}^{1 - \\alpha}$"
      ],
      "text/plain": [
       "K_t**alpha*L_t**(1 - alpha)"
      ]
     },
     "metadata": {},
     "output_type": "display_data"
    }
   ],
   "source": [
    "#Initialize variabels in Sympy\n",
    "alpha = sm.symbols('alpha')\n",
    "K = sm.symbols('K_t')\n",
    "L = sm.symbols('L_t')\n",
    "rt = sm.symbols('r_t')\n",
    "wt = sm.symbols('w_t')\n",
    "Y = sm.symbols('Y')\n",
    "\n",
    "#Setup production function\n",
    "Y = K**alpha * L**(1-alpha)\n",
    "display(Y)"
   ]
  },
  {
   "cell_type": "markdown",
   "metadata": {},
   "source": [
    "Next, we derive the interest and wage rate"
   ]
  },
  {
   "cell_type": "code",
   "execution_count": 158,
   "metadata": {},
   "outputs": [
    {
     "data": {
      "text/latex": [
       "$\\displaystyle r_{t} = \\frac{K_{t}^{\\alpha} L_{t}^{1 - \\alpha} \\alpha}{K_{t}}$"
      ],
      "text/plain": [
       "Eq(r_t, K_t**alpha*L_t**(1 - alpha)*alpha/K_t)"
      ]
     },
     "metadata": {},
     "output_type": "display_data"
    },
    {
     "data": {
      "text/latex": [
       "$\\displaystyle w_{t} = \\frac{K_{t}^{\\alpha} L_{t}^{1 - \\alpha} \\left(1 - \\alpha\\right)}{L_{t}}$"
      ],
      "text/plain": [
       "Eq(w_t, K_t**alpha*L_t**(1 - alpha)*(1 - alpha)/L_t)"
      ]
     },
     "metadata": {},
     "output_type": "display_data"
    }
   ],
   "source": [
    "#Derivatives\n",
    "dyk = sm.diff(Y,K)\n",
    "dyl = sm.diff(Y,L)\n",
    "\n",
    "#Equate\n",
    "interest = sm.Eq(rt,dyk) \n",
    "wage = sm.Eq(wt,dyl)\n",
    "display(interest)\n",
    "display(wage)"
   ]
  },
  {
   "cell_type": "markdown",
   "metadata": {},
   "source": [
    "Rewrite to pr. worker"
   ]
  },
  {
   "cell_type": "code",
   "execution_count": 159,
   "metadata": {},
   "outputs": [
    {
     "data": {
      "text/latex": [
       "$\\displaystyle r_{t} = \\alpha k_{t}^{\\alpha - 1}$"
      ],
      "text/plain": [
       "Eq(r_t, alpha*k_t**(alpha - 1))"
      ]
     },
     "metadata": {},
     "output_type": "display_data"
    },
    {
     "data": {
      "text/latex": [
       "$\\displaystyle w_{t} = k_{t}^{\\alpha} \\left(1 - \\alpha\\right)$"
      ],
      "text/plain": [
       "Eq(w_t, k_t**alpha*(1 - alpha))"
      ]
     },
     "metadata": {},
     "output_type": "display_data"
    }
   ],
   "source": [
    "#Initialize variabels in Sympy\n",
    "k = sm.symbols('k_t')\n",
    "\n",
    "#Rewrite\n",
    "intrate = sm.Eq(rt,(alpha*k**(alpha-1)))\n",
    "wagerate = sm.Eq(wt, ((1-alpha)*k**(alpha)))\n",
    "display(intrate)\n",
    "display(wagerate)"
   ]
  },
  {
   "cell_type": "markdown",
   "metadata": {},
   "source": [
    "### Law-of-motion and steady state capital"
   ]
  },
  {
   "cell_type": "markdown",
   "metadata": {},
   "source": [
    "The aggregate capital stock in $t+1$ is given by\n",
    "$$k_{t+1}(1+n) = s_t$$\n",
    "\n",
    "Recall the savingsbehaviour:"
   ]
  },
  {
   "cell_type": "code",
   "execution_count": 160,
   "metadata": {},
   "outputs": [
    {
     "data": {
      "text/latex": [
       "$\\displaystyle \\frac{w_{t}}{\\rho + 2} = s_{t}$"
      ],
      "text/plain": [
       "Eq(w_t/(rho + 2), s_t)"
      ]
     },
     "metadata": {},
     "output_type": "display_data"
    }
   ],
   "source": [
    "display(opt_saving)"
   ]
  },
  {
   "cell_type": "markdown",
   "metadata": {},
   "source": [
    "Substitute for the wage rate and use aggregate capital stock to obtain the law-of-motion:"
   ]
  },
  {
   "cell_type": "code",
   "execution_count": 161,
   "metadata": {},
   "outputs": [
    {
     "data": {
      "text/latex": [
       "$\\displaystyle k_{t+1} = \\frac{k_{t}^{\\alpha} \\left(1 - \\alpha\\right)}{n \\rho + 2 n + \\rho + 2}$"
      ],
      "text/plain": [
       "Eq(k_t+1, k_t**alpha*(1 - alpha)/(n*rho + 2*n + rho + 2))"
      ]
     },
     "metadata": {},
     "output_type": "display_data"
    }
   ],
   "source": [
    "#Initialize variabels in Sympy\n",
    "k1 = sm.symbols('k_t+1')\n",
    "n = sm.symbols('n')\n",
    "\n",
    "#Replace in savings\n",
    "savings = opt_saving.subs(wt, ((1-alpha)*k**(alpha)))\n",
    "\n",
    "#Use definition of aggregate capital\n",
    "cap = k1 * (1+n)\n",
    "agcap = savings.subs(st,cap)\n",
    "\n",
    "#Solve for k_t+1 to obtain law of-motion\n",
    "lom = sm.solve(agcap,k1)[0]\n",
    "lom = sm.Eq(k1,lom) #Equate\n",
    "display(lom)"
   ]
  },
  {
   "cell_type": "markdown",
   "metadata": {},
   "source": [
    "Use that in steady state (SS) $k_t = k_{t+1} = k^*$:"
   ]
  },
  {
   "cell_type": "code",
   "execution_count": 162,
   "metadata": {},
   "outputs": [
    {
     "data": {
      "text/latex": [
       "$\\displaystyle \\left(\\frac{- n \\rho - 2 n - \\rho - 2}{\\alpha - 1}\\right)^{\\frac{1}{\\alpha - 1}}$"
      ],
      "text/plain": [
       "((-n*rho - 2*n - rho - 2)/(alpha - 1))**(1/(alpha - 1))"
      ]
     },
     "metadata": {},
     "output_type": "display_data"
    }
   ],
   "source": [
    "#Initialize variabels in Sympy\n",
    "kstar = sm.symbols('k^*')\n",
    "\n",
    "#Replace with k*\n",
    "lom1 = lom.subs(k1, kstar)\n",
    "lom2 = lom1.subs(k, kstar)\n",
    "\n",
    "#Solve for k*\n",
    "lom3 = sm.solve(lom2, kstar)[0]\n",
    "display(lom3)"
   ]
  },
  {
   "cell_type": "markdown",
   "metadata": {},
   "source": [
    "We can compute the SS value by turning the ss-function into a python function:"
   ]
  },
  {
   "cell_type": "code",
   "execution_count": 163,
   "metadata": {},
   "outputs": [
    {
     "name": "stdout",
     "output_type": "stream",
     "text": [
      "The SS level of capital for n=0.2, rho=0.5 and alpha=0.1 is 0.2624361248771799\n"
     ]
    }
   ],
   "source": [
    "ss_func = sm.lambdify((n, rho, alpha),lom3) #turn into python function\n",
    "ss_capital = ss_func(0.2,0.5,0.1) #give the funtion random values\n",
    "print(f'The SS level of capital for n=0.2, rho=0.5 and alpha=0.1 is {ss_capital}')"
   ]
  },
  {
   "cell_type": "markdown",
   "metadata": {},
   "source": [
    "## Numerical solution"
   ]
  },
  {
   "cell_type": "markdown",
   "metadata": {},
   "source": [
    "We can also solve for the SS numerically:"
   ]
  },
  {
   "cell_type": "code",
   "execution_count": 164,
   "metadata": {},
   "outputs": [
    {
     "name": "stdout",
     "output_type": "stream",
     "text": [
      "The SS level of capital for n=0.2, rho=0.5 and alpha=0.1 is 0.10475656017450916\n"
     ]
    }
   ],
   "source": [
    "#Set parameter values\n",
    "alpha = 1/3\n",
    "n = 0.2\n",
    "rho = 0.5\n",
    "\n",
    "#Define objective function i.e. the low of motion as seen above\n",
    "f = lambda k: k**alpha #input for the objective function\n",
    "obj_kss = lambda kss: kss - (f(kss)*(1-alpha))/(n*rho+2*n+rho+2) #the objective functiin is the law of motion\n",
    "\n",
    "#Optimize using the bisect method\n",
    "result = optimize.root_scalar(obj_kss,bracket=[0.1,100],method='bisect')\n",
    "\n",
    "print('The SS level of capital for n=0.2, rho=0.5 and alpha=0.1 is',result.root)    "
   ]
  },
  {
   "cell_type": "markdown",
   "metadata": {},
   "source": [
    "## Graphical representation of dynamics"
   ]
  },
  {
   "cell_type": "markdown",
   "metadata": {},
   "source": [
    "From the analytical section recall:"
   ]
  },
  {
   "cell_type": "code",
   "execution_count": 165,
   "metadata": {},
   "outputs": [
    {
     "data": {
      "text/latex": [
       "$\\displaystyle w_{t} = k_{t}^{\\alpha} \\left(1 - \\alpha\\right)$"
      ],
      "text/plain": [
       "Eq(w_t, k_t**alpha*(1 - alpha))"
      ]
     },
     "metadata": {},
     "output_type": "display_data"
    },
    {
     "data": {
      "text/latex": [
       "$\\displaystyle \\frac{w_{t}}{\\rho + 2} = s_{t}$"
      ],
      "text/plain": [
       "Eq(w_t/(rho + 2), s_t)"
      ]
     },
     "metadata": {},
     "output_type": "display_data"
    },
    {
     "data": {
      "text/latex": [
       "$\\displaystyle k_{t+1} \\left(n + 1\\right)$"
      ],
      "text/plain": [
       "k_t+1*(n + 1)"
      ]
     },
     "metadata": {},
     "output_type": "display_data"
    }
   ],
   "source": [
    "display(wagerate)\n",
    "display(opt_saving)\n",
    "display(cap)"
   ]
  },
  {
   "cell_type": "markdown",
   "metadata": {},
   "source": [
    "This we use to construct the transition equation"
   ]
  },
  {
   "cell_type": "code",
   "execution_count": 166,
   "metadata": {},
   "outputs": [],
   "source": [
    "def transition(k,alpha,rho,n):\n",
    "    w = k**alpha * (1-alpha)\n",
    "    s = w / (rho+2)\n",
    "    k1 = s / (n+1)\n",
    "    return k1"
   ]
  },
  {
   "cell_type": "markdown",
   "metadata": {},
   "source": [
    "Use the transition function to create all values of capital"
   ]
  },
  {
   "cell_type": "code",
   "execution_count": 167,
   "metadata": {},
   "outputs": [],
   "source": [
    "def transition_curve(alpha,rho,n):\n",
    "    \n",
    "    #grids\n",
    "    k_1 = np.linspace(1e-20,6,1000)\n",
    "    k_2 = np.empty(1000)\n",
    "    \n",
    "    #construct array of \"tomorrows\" capital\n",
    "    for i,k in enumerate(k_1):\n",
    "        k_plus = transition(k,alpha,rho,n)\n",
    "        k_2[i] = k_plus\n",
    "        \n",
    "    return k_1, k_2"
   ]
  },
  {
   "cell_type": "markdown",
   "metadata": {},
   "source": [
    "Next we plot the transition diagram:"
   ]
  },
  {
   "cell_type": "code",
   "execution_count": 183,
   "metadata": {},
   "outputs": [
    {
     "data": {
      "image/png": "[encoded data removed]",
      "text/plain": [
       "<Figure size 576x396 with 1 Axes>"
      ]
     },
     "metadata": {},
     "output_type": "display_data"
    }
   ],
   "source": [
    "def fig(rho):\n",
    "    k_1, k_2 = transition_curve(alpha,rho,n)\n",
    "    fig = plt.figure()\n",
    "    ax = fig.add_subplot(1,1,1)\n",
    "    ax.plot(k_1,k_2)\n",
    "    ax.plot(k_1,k_1, '--', color='grey')\n",
    "    plt.text(0.35,0.26,'$k_t+1$')\n",
    "    plt.text(0.35,0.32,'$k_t=k_t+1$')\n",
    "    plt.text(0.2,0.22,'$k^*$')\n",
    "    ax.set_xlabel('$k_t$')\n",
    "    ax.set_ylabel('$k_t+1$')\n",
    "    ax.set_title('Transition curve')\n",
    "    ax.set_xlim([0,0.4])\n",
    "    ax.set_ylim([0,0.4]);\n",
    "    return\n",
    "\n",
    "import ipywidgets as widgets\n",
    "widgets.interact(fig, \n",
    "    rho = widgets.FloatSlider(description='rho', min=0, max=16, step=0.01, value=0.1),\n",
    ");"
   ]
  },
  {
   "cell_type": "markdown",
   "metadata": {},
   "source": [
    "As seen on the figure the ss capital decreases as rho --> $\\infty$.\n",
    "$\\rho$ is a measurement of time preference (impatience). The higher\n",
    "$\\rho$ is the more impatient are the agents. Hence, they will\n",
    "spend more in when young --> lower savings --> lower ss capital."
   ]
  },
  {
   "cell_type": "markdown",
   "metadata": {},
   "source": [
    "# Model extension"
   ]
  },
  {
   "cell_type": "markdown",
   "metadata": {},
   "source": [
    "We now impose a pay-as-you-go social security system in the model. The government raises taxes, $\\tau$, from the young population in period t and transfers them to the old. Budget constraints is thus:\n",
    "\n",
    "$$ c_{1t} + s_t + \\tau w_t = w_t $$\n",
    "\n",
    "$$ c_{2t+1} = (1+r_{t+1}) s_t + \\tau w_t $$"
   ]
  },
  {
   "cell_type": "code",
   "execution_count": 170,
   "metadata": {},
   "outputs": [],
   "source": [
    "tau = sm.symbols('tau')\n",
    "c1 = sm.symbols('c_1t')\n",
    "c2 = sm.symbols('c_2t+1')\n",
    "rho = sm.symbols('rho')\n",
    "alpha = sm.symbols('alpha')\n",
    "K = sm.symbols('K_t')\n",
    "L = sm.symbols('L_t')\n",
    "rt = sm.symbols('r_t')\n",
    "wt = sm.symbols('w_t')\n",
    "Y = sm.symbols('Y')\n",
    "lamb = sm.symbols('lambda')\n",
    "st = sm.symbols('s_t')\n",
    "kstar = sm.symbols('k^*')\n",
    "k1 = sm.symbols('k_t+1')\n",
    "n = sm.symbols('n')\n",
    "k = sm.symbols('k_t')\n",
    "\n",
    "\n",
    "#lifetime budget constraint\n",
    "life_con = c1+c2/(1+rt1)-tau/(1+rt1)*wt-(1-tau)*wt\n"
   ]
  },
  {
   "cell_type": "code",
   "execution_count": 171,
   "metadata": {},
   "outputs": [
    {
     "data": {
      "text/latex": [
       "$\\displaystyle - \\lambda \\left(c_{1t} + \\frac{c_{2t+1}}{r_{t+1} + 1} - \\frac{\\tau w_{t}}{r_{t+1} + 1} - w_{t} \\left(1 - \\tau\\right)\\right) + \\log{\\left(c_{1t} \\right)} + \\frac{\\log{\\left(c_{2t+1} \\right)}}{\\rho + 1}$"
      ],
      "text/plain": [
       "-lambda*(c_1t + c_2t+1/(r_t+1 + 1) - tau*w_t/(r_t+1 + 1) - w_t*(1 - tau)) + log(c_1t) + log(c_2t+1)/(rho + 1)"
      ]
     },
     "execution_count": 171,
     "metadata": {},
     "output_type": "execute_result"
    }
   ],
   "source": [
    "#setting up the new lagrangian\n",
    "L1 = U + lamb * (-1)*life_con\n",
    "L1"
   ]
  },
  {
   "cell_type": "code",
   "execution_count": 172,
   "metadata": {},
   "outputs": [
    {
     "data": {
      "text/latex": [
       "$\\displaystyle 0 = - \\lambda + \\frac{1}{c_{1t}}$"
      ],
      "text/plain": [
       "Eq(0, -lambda + 1/c_1t)"
      ]
     },
     "metadata": {},
     "output_type": "display_data"
    },
    {
     "data": {
      "text/latex": [
       "$\\displaystyle 0 = - \\frac{\\lambda}{r_{t+1} + 1} + \\frac{1}{c_{2t+1} \\left(\\rho + 1\\right)}$"
      ],
      "text/plain": [
       "Eq(0, -lambda/(r_t+1 + 1) + 1/(c_2t+1*(rho + 1)))"
      ]
     },
     "metadata": {},
     "output_type": "display_data"
    }
   ],
   "source": [
    "#F.O.C's\n",
    "foc3 = sm.Eq(0,sm.diff(L1,c1))\n",
    "foc4 = sm.Eq(0,sm.diff(L1,c2))\n",
    "display(foc3)\n",
    "display(foc4)"
   ]
  },
  {
   "cell_type": "code",
   "execution_count": 173,
   "metadata": {},
   "outputs": [
    {
     "data": {
      "text/latex": [
       "$\\displaystyle \\frac{1}{c_{1t}}$"
      ],
      "text/plain": [
       "1/c_1t"
      ]
     },
     "metadata": {},
     "output_type": "display_data"
    },
    {
     "data": {
      "text/latex": [
       "$\\displaystyle \\frac{r_{t+1} + 1}{c_{2t+1} \\left(\\rho + 1\\right)}$"
      ],
      "text/plain": [
       "(r_t+1 + 1)/(c_2t+1*(rho + 1))"
      ]
     },
     "metadata": {},
     "output_type": "display_data"
    }
   ],
   "source": [
    "#solving F.O.C's\n",
    "lam1 = sm.solve(foc3,lamb)[0]\n",
    "lam2 = sm.solve(foc4,lamb)[0]\n",
    "display(lam1)\n",
    "display(lam2)"
   ]
  },
  {
   "cell_type": "code",
   "execution_count": 174,
   "metadata": {},
   "outputs": [
    {
     "data": {
      "text/latex": [
       "$\\displaystyle \\frac{c_{2t+1} \\left(\\rho + 1\\right)}{r_{t+1} + 1} = c_{1t}$"
      ],
      "text/plain": [
       "Eq(c_2t+1*(rho + 1)/(r_t+1 + 1), c_1t)"
      ]
     },
     "metadata": {},
     "output_type": "display_data"
    }
   ],
   "source": [
    "#Equate lambdas and solve for Euler eq.\n",
    "euler1 = sm.solve(sm.Eq(lam1,lam2),c1)[0] \n",
    "euler2 = sm.Eq(euler1, c1)\n",
    "display(euler2)"
   ]
  },
  {
   "cell_type": "code",
   "execution_count": 175,
   "metadata": {},
   "outputs": [
    {
     "data": {
      "text/latex": [
       "$\\displaystyle \\frac{w_{t} \\left(- r_{t+1} \\tau + r_{t+1} - \\rho \\tau - 2 \\tau + 1\\right)}{r_{t+1} \\rho + 2 r_{t+1} + \\rho + 2}$"
      ],
      "text/plain": [
       "w_t*(-r_t+1*tau + r_t+1 - rho*tau - 2*tau + 1)/(r_t+1*rho + 2*r_t+1 + rho + 2)"
      ]
     },
     "execution_count": 175,
     "metadata": {},
     "output_type": "execute_result"
    }
   ],
   "source": [
    "# substituting per period budgetconstraint\n",
    "sav = euler2.subs(c2,((1+rt1)*st+tau*wt))\n",
    "sav2 = sav.subs(c1,(wt-st-tau*wt))\n",
    "\n",
    "# solving for savings\n",
    "opt_sav = sm.solve(sav2,st)[0]\n",
    "opt_sav"
   ]
  },
  {
   "cell_type": "code",
   "execution_count": 176,
   "metadata": {},
   "outputs": [],
   "source": [
    "sav1 = opt_sav.subs(rt1,(alpha*k**(alpha-1)))\n",
    "sav2 = sav1.subs(wt,(1-alpha)*k**(alpha))\n",
    "sav_func = sm.lambdify((k,alpha,tau,rho),sav2)"
   ]
  },
  {
   "cell_type": "markdown",
   "metadata": {},
   "source": [
    "Next we define a new transition function for the new savings function:"
   ]
  },
  {
   "cell_type": "code",
   "execution_count": 177,
   "metadata": {},
   "outputs": [],
   "source": [
    "def transition_payg(k,alpha,rho,tau,n):\n",
    "    w = k**alpha * (1-alpha)\n",
    "    s = sav_func(k,alpha,tau,rho)\n",
    "    k1 = s / (n+1)\n",
    "    return k1"
   ]
  },
  {
   "cell_type": "code",
   "execution_count": 178,
   "metadata": {},
   "outputs": [],
   "source": [
    "def transition_curve_payg(alpha,rho,n,tau,rt):\n",
    "    \n",
    "    #grids\n",
    "    k_1_payg = np.linspace(1e-20,6,1000)\n",
    "    k_2_payg = np.empty(1000)\n",
    "    \n",
    "    #construct array of \"tomorrows\" capital\n",
    "    for i,k in enumerate(k_1):\n",
    "        k_plus = transition_payg(k,alpha,rho,tau,n)\n",
    "        k_2_payg[i] = k_plus\n",
    "        \n",
    "    return k_1_payg, k_2_payg"
   ]
  },
  {
   "cell_type": "code",
   "execution_count": 179,
   "metadata": {},
   "outputs": [
    {
     "data": {
      "image/png": "[encoded data removed]",
      "text/plain": [
       "<Figure size 576x396 with 1 Axes>"
      ]
     },
     "metadata": {},
     "output_type": "display_data"
    }
   ],
   "source": [
    "#initializing parameters again\n",
    "tau = 0.3\n",
    "alpha = 1/3\n",
    "rho = 0.5\n",
    "n = 0.2\n",
    "\n",
    "def fig_payg(tau):\n",
    "    k_1_payg, k_2_payg = transition_curve_payg(alpha,rho,n,tau,rt)\n",
    "    k_1, k_2 = transition_curve(alpha,rho,n)\n",
    "    fig = plt.figure()\n",
    "    ax = fig.add_subplot(1,1,1)\n",
    "    ax.plot(k_1_payg,k_2_payg,label=\"PAYG\")\n",
    "    ax.plot(k_1,k_2,label=\"Baseline\")\n",
    "    ax.plot(k_1_payg,k_1_payg, '--', color='grey')\n",
    "    ax.set_xlabel('$k_t$')\n",
    "    ax.set_ylabel('$k_t+1$')\n",
    "    ax.set_title('Transition curve')\n",
    "    ax.set_xlim([0,0.2])\n",
    "    ax.set_ylim([0,0.2]);\n",
    "    ax.legend()\n",
    "    return\n",
    "\n",
    "import ipywidgets as widgets\n",
    "widgets.interact(fig_payg, \n",
    "    tau = widgets.FloatSlider(description='tau', min=0, max=1, step=0.01, value=0.1),\n",
    ");"
   ]
  },
  {
   "cell_type": "markdown",
   "metadata": {},
   "source": [
    "We see that when the tax rate increases the steady state capital decreases. This decrease in steady state capital happens through two channels:\n",
    "1) When the tax rate increases the young have a lower disposable income and need to save less to obtain same level of consumption in period 1.\n",
    "2) When the tax rate increases the old receive higher level of social benefit. This means that they can (and will) save less when young, and still obtain the same level of consumption in period 2."
   ]
  },
  {
   "cell_type": "markdown",
   "metadata": {},
   "source": [
    "# numerical optimization"
   ]
  },
  {
   "cell_type": "markdown",
   "metadata": {},
   "source": [
    "We want to optimize capital and solve for $w^*$, $s^*$,$c_{1}^*$, $c_{2}^*$ and $u^*$:"
   ]
  },
  {
   "cell_type": "code",
   "execution_count": 180,
   "metadata": {},
   "outputs": [],
   "source": [
    "def save_func(k):\n",
    "    sav = (k**alpha*(1-alpha)*(-alpha*k**(alpha-1)*tau+alpha*k**(alpha-1)-rho*tau-2*tau+1)/(alpha*k**(alpha-1)*rho+2*alpha*k**(alpha-1)+rho+2)-k)\n",
    "    return sav\n",
    "\n",
    "def obj(k,alpha,tau,rho):\n",
    "    return -save_func(k)\n",
    "\n",
    "def optimizer(obj,k,alpha,tau,rho):\n",
    "    res = optimize.minimize_scalar(obj,method=\"bounded\",bounds=(0,1),args=(rho,alpha,tau))\n",
    "    return res"
   ]
  },
  {
   "cell_type": "code",
   "execution_count": 185,
   "metadata": {},
   "outputs": [],
   "source": [
    "nice = optimizer(obj,k,alpha,tau,rho)\n",
    "kstar = nice.x\n",
    "wstar = kstar**alpha * (1-alpha)\n",
    "sstar = kstar/(1+n)\n",
    "c1_star = wstar-sstar-tau*wstar\n",
    "c2_star = (1+(alpha*kstar**(alpha-1)))*sstar+tau*wstar\n",
    "u_star = c1_star + 1/(1+rho) * c2_star"
   ]
  },
  {
   "cell_type": "code",
   "execution_count": 186,
   "metadata": {},
   "outputs": [
    {
     "name": "stdout",
     "output_type": "stream",
     "text": [
      "Steady state capital is 0.01062\n",
      "wage in steady state is 0.14653\n",
      "Savings in steady state is 0.00885\n",
      "In steady state the young consume 0.09372\n",
      "In steady state the old consume 0.11386\n",
      "The utility is 0.16963\n"
     ]
    }
   ],
   "source": [
    "print(f'Steady state capital is {kstar:.5f}')\n",
    "print(f'wage in steady state is {wstar:.5f}')\n",
    "print(f'Savings in steady state is {sstar:.5f}')\n",
    "print(f'In steady state the young consume {c1_star:.5f}')\n",
    "print(f'In steady state the old consume {c2_star:.5f}')\n",
    "print(f'The utility is {u_star:.5f}')"
   ]
  },
  {
   "cell_type": "code",
   "execution_count": null,
   "metadata": {},
   "outputs": [],
   "source": []
  }
 ],
 "metadata": {
  "kernelspec": {
   "display_name": "Python 3",
   "language": "python",
   "name": "python3"
  },
  "language_info": {
   "codemirror_mode": {
    "name": "ipython",
    "version": 3
   },
   "file_extension": ".py",
   "mimetype": "text/x-python",
   "name": "python",
   "nbconvert_exporter": "python",
   "pygments_lexer": "ipython3",
   "version": "3.7.4"
  }
 },
 "nbformat": 4,
 "nbformat_minor": 4
}
