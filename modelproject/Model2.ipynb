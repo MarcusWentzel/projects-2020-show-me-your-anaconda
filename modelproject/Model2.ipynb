{
 "cells": [
  {
   "cell_type": "code",
   "execution_count": 2,
   "metadata": {},
   "outputs": [],
   "source": [
    "import numpy as np\n",
    "from scipy import linalg\n",
    "from scipy import optimize\n",
    "import sympy as sm"
   ]
  },
  {
   "cell_type": "markdown",
   "metadata": {},
   "source": [
    "## 1a. Utility function\n",
    "\n",
    " \n",
    " Consider the **OLG model** where:\n",
    "\n",
    "* $A$ is tecnhology level\n",
    "* $K$ is aggregate capital available in period $t$\n",
    "* $L_{t}$ is number of young people in period $t$\n",
    "* $\\rho$ is time preference (impatience)\n",
    "* $c_{1t}$ is consumption when young\n",
    "* $c_{2t+1}$ is consumption when old\n",
    "* $w_t$ is the wage\n",
    "* $r_t$ is the interest rate at wich firms can borrow capital\n",
    "* $s_t$ is savings by young in period $t$\n",
    "\n",
    "\n",
    "This is an economy where agents live for to periods. Young agents work one unit of time (i.e. their labor income is equal to their wage, $w_t$). There is no soscial benefit system, so young have to retain savings to have consumption when they are old.\n",
    "\n",
    "The **utility function** for young agent born in period $t$ is given by:\n",
    "\n",
    "$$\n",
    "U(c_{1t},c_{2t+1}) = u(c_{1t}) + (1+\\rho)^{-1}u(c_{2t+1})\n",
    "$$\n",
    "\n",
    "\n",
    "The **budget constraints** are given by\n",
    "\n",
    "$$\n",
    "c_{1t} =w_t-s_t\n",
    "$$\n",
    "\n",
    "$$\n",
    "c_{2t+1} = (1+r_{t+1})s_t\n",
    "$$\n",
    "\n",
    "Consumption in period 1 is equal to the income ($w_t$) minus savings ($s_t$). \n",
    "\n",
    "Consumption in period 2 is equal to the savings multiplied by the interest rate ($1+r_{t+1}$). Here also lies an asumption that old agents will consume everythin and will not leave any heritage."
   ]
  },
  {
   "cell_type": "markdown",
   "metadata": {},
   "source": [
    "## 1b. Production function\n",
    "\n",
    "\n",
    "The **Production function** is given by:\n",
    "\n",
    "$$\n",
    "Y = A(\\alpha K^{\\rho}+(1-\\alpha)L^{\\rho})^{\\frac{1}{\\rho}}\n",
    "$$\n",
    "\n",
    "\n",
    "Next, we define the capital-labor ratio:\n",
    "\n",
    "$$\n",
    "k_{t} = \\frac{K_{t}}{L_{t}}\n",
    "$$\n"
   ]
  },
  {
   "cell_type": "markdown",
   "metadata": {},
   "source": [
    "## 2a. interest rate factor\n",
    "\n",
    "The interest rate in equilibrium is given by:\n",
    "\n",
    "Interest rate (this is due to the no-arbitrage condtion*): \n",
    "$$\n",
    "r_{t}= f'(k_{t})-\\delta \\equiv r(k_{t})\n",
    "$$\n",
    "\n",
    "*We assume that there is perfect competition on the goods market, meaning that production factors are rewarded their marginal products. We also assume no arbitrage posibilities on the loan market. Suppose you have lent out 1 unit of output from the end of period $t-1$ to the end of period $t$. t. If the real interest rate in the loan market is $r_t$, then, at the end of period $t$ you should get back $1+r_t$ units of output. In the absence t. In the absence of uncertainty, equilibrium requires that capital and loans give the same rate of return:\n",
    "\n",
    "$$\n",
    "\\hat{r}_{t} - \\delta = r_{t}\n",
    "$$\n",
    "\n"
   ]
  },
  {
   "cell_type": "markdown",
   "metadata": {},
   "source": [
    "## 2b. wage rate\n",
    "\n",
    "\n",
    "Wage:\n",
    "$$\n",
    "w_{t}=f(k_{t})-k_{t}f'(k_{t}) \\equiv w(k_{t})\n",
    "$$\n",
    "\n",
    "\n"
   ]
  },
  {
   "cell_type": "markdown",
   "metadata": {},
   "source": [
    "# ER NÅET HERTIL\n",
    "\n",
    "## 2 Lifetime utility and optimal savings\n",
    "\n",
    "Next we will find the optimal savings behavior. Substituting the budget constraint into the utility function yields:\n",
    "\n",
    "$$\n",
    "U_t(c_{1t}, c_{2t+1}) = ln((1-\\tau)*w_t-s_t) + \\beta*ln(\\tau*w_t+s_t*(1+r_{t+1}))\n",
    "$$\n",
    "\n",
    "To find the optimal savings we find the F.O.C. w.r.t. $s_t$:\n",
    "\n",
    "$$\n",
    "\\max_{c_{1t}, c_{2t+1}}ln((1-\\tau)*w_t-s_t) + \\beta*ln(\\tau*w_t+s_t*(1+r_{t+1})) \\\\\n",
    "\\text{s.t. $s_t$} \\\\\n",
    "$$\n",
    "\n",
    "Which yields:\n",
    "$$\n",
    "0 = -\\frac{1}{1-\\tau*w_t-s_t}+\\beta \\frac{1+r_{t+1}}{\\tau*w_t+s_t(1+r_{t+1})}\n",
    "$$\n",
    "\n",
    "This can be rewrittens as:\n",
    "$$\n",
    "s_t = \\frac{\\beta}{1+\\beta}((1-\\tau)w_t - \\frac{1}{\\beta(1+r_{t+1})}\\tau w_t)\n",
    "$$\n",
    "This is the optimal savings for the agents."
   ]
  },
  {
   "cell_type": "markdown",
   "metadata": {},
   "source": [
    "## Optimal consumption\n",
    "\n",
    "\n",
    "We now want to find the optimal consumption behavior by agent born in period t, i.e. we want to maximize utility with respect to consumption in period 1 and 2 ($c_{1t}$ and $c_{2t+1}$). To do this we set up the **Lagrangian**:\n",
    "\n",
    "$$\n",
    "L = ln(c_1) + \\beta*ln(c_2) - \\lambda*(c_1 + \\frac{c_{2t+1}}{1+r_{t+1}} - \\frac{\\tau}{1+r_{t+1}}w_t - (1-\\tau)w_t)\n",
    "$$\n",
    "\n",
    "\n",
    "Finding the first order conditions w.r.t. $c_{1t}$ and $c_{2t+1}$ are given by:\n",
    "\n",
    "w.r.t. $c_{t1}$: \n",
    "$$\n",
    "\\lambda = \\frac{1}{c_{1+t}}\n",
    "$$\n",
    "\n",
    "w.r.t. $c_{2+t1}$:\n",
    "$$\n",
    "\\lambda = \\beta*\\frac{1+r_{t+1}}{c_{2t+1}}\n",
    "$$\n",
    "\n",
    "The Euler equation is found by substitution and is given by:\n",
    "\n",
    "$$\n",
    "\\frac{c_{2t+1}}{c_{1t}} = \\beta*(1+r_{t+1})\n",
    "$$\n",
    "\n",
    "This is the Euler equation. From the equation we see that agents choose a level of consumption such that the marginal rate of substitution between present consumption and future consumptions equals the marginal rate of transformation.\n"
   ]
  },
  {
   "cell_type": "code",
   "execution_count": 3,
   "metadata": {},
   "outputs": [
    {
     "name": "stdout",
     "output_type": "stream",
     "text": [
      "The optimal savings is:\n"
     ]
    },
    {
     "data": {
      "text/latex": [
       "$\\displaystyle \\frac{w \\left(- \\beta r \\tau + \\beta r - \\beta \\tau + \\beta - \\tau\\right)}{\\beta r + \\beta + r + 1}$"
      ],
      "text/plain": [
       "w*(-beta*r*tau + beta*r - beta*tau + beta - tau)/(beta*r + beta + r + 1)"
      ]
     },
     "execution_count": 3,
     "metadata": {},
     "output_type": "execute_result"
    }
   ],
   "source": [
    "#We now use sympy to solve same question:\n",
    "#First we define our variables:\n",
    "tau = sm.symbols('tau')\n",
    "w = sm.symbols('w')\n",
    "s = sm.symbols('s')\n",
    "beta = sm.symbols('beta')\n",
    "r = sm.symbols('r')\n",
    "\n",
    "\n",
    "#We use sympy to isolate savings:\n",
    "s_diff = sm.Eq(0,-1/((1-tau)*w-s)+(beta*(1+r))/(tau*w+s*(1+r)))\n",
    "opt_s = sm.solve(s_diff,s)[0]\n",
    "print('The optimal savings is:')\n",
    "opt_s\n"
   ]
  },
  {
   "cell_type": "code",
   "execution_count": 4,
   "metadata": {},
   "outputs": [
    {
     "name": "stdout",
     "output_type": "stream",
     "text": [
      "Optimal savings is\n"
     ]
    },
    {
     "data": {
      "text/plain": [
       "0.025757575757575764"
      ]
     },
     "execution_count": 4,
     "metadata": {},
     "output_type": "execute_result"
    }
   ],
   "source": [
    "#Function\n",
    "opt_s_func = sm.lambdify((tau,w,beta,r),opt_s)\n",
    "print('Optimal savings is')\n",
    "opt_s_func(0.3,0.5,0.5,0.1) #NOTE: The numbers are random"
   ]
  },
  {
   "cell_type": "code",
   "execution_count": 5,
   "metadata": {},
   "outputs": [],
   "source": [
    "alpha = sm.symbols('alpha')\n",
    "A = sm.symbols('A')\n",
    "K = sm.symbols('K')\n",
    "L = sm.symbols('L')\n",
    "w= sm.symbols('w')\n",
    "r = sm.symbols('r')\n"
   ]
  },
  {
   "cell_type": "code",
   "execution_count": 6,
   "metadata": {},
   "outputs": [
    {
     "name": "stdout",
     "output_type": "stream",
     "text": [
      "The wage is given by:\n"
     ]
    },
    {
     "data": {
      "text/latex": [
       "$\\displaystyle A K^{\\alpha} L^{- \\alpha} \\left(1 - \\alpha\\right)$"
      ],
      "text/plain": [
       "A*K**alpha*L**(-alpha)*(1 - alpha)"
      ]
     },
     "execution_count": 6,
     "metadata": {},
     "output_type": "execute_result"
    }
   ],
   "source": [
    "# In the two equations above it is easy to isolate w and r, so the following code is not as usefull in this situation as in others. \n",
    "# But it can be very usefull in other situations\n",
    "\n",
    "#Isolate wage:\n",
    "wm = sm.Eq(0,(1-alpha)*A*K**alpha*L**(-alpha)-w)\n",
    "opt_w = sm.solve(wm,w)[0]\n",
    "print('The wage is given by:')\n",
    "opt_w\n"
   ]
  },
  {
   "cell_type": "code",
   "execution_count": 7,
   "metadata": {},
   "outputs": [
    {
     "data": {
      "text/plain": [
       "0.763142828368888"
      ]
     },
     "execution_count": 7,
     "metadata": {},
     "output_type": "execute_result"
    }
   ],
   "source": [
    "#Next, we use sympy to find a value for the optimal wage\n",
    "opt_w_func = sm.lambdify((A,K,L,alpha),opt_w) \n",
    "print('The optimal wage is:')\n",
    "opt_w_func(1,1.5,1,1/3) #NOTE: The numbers are random\n"
   ]
  },
  {
   "cell_type": "code",
   "execution_count": 10,
   "metadata": {},
   "outputs": [
    {
     "name": "stdout",
     "output_type": "stream",
     "text": [
      "The interest rate is given by:\n"
     ]
    },
    {
     "data": {
      "text/latex": [
       "$\\displaystyle A K^{1 - \\alpha} L^{1 - \\alpha} \\alpha$"
      ],
      "text/plain": [
       "A*K**(1 - alpha)*L**(1 - alpha)*alpha"
      ]
     },
     "execution_count": 10,
     "metadata": {},
     "output_type": "execute_result"
    }
   ],
   "source": [
    "#Isolate interest rate:\n",
    "rm = sm.Eq(0,alpha*A*K**(1-alpha)*L**(1-alpha)-r)\n",
    "opt_r = sm.solve(rm,r)[0]\n",
    "print('The interest rate is given by:')\n",
    "opt_r"
   ]
  },
  {
   "cell_type": "code",
   "execution_count": 12,
   "metadata": {},
   "outputs": [
    {
     "name": "stdout",
     "output_type": "stream",
     "text": [
      "The optimal interest rate is:\n"
     ]
    },
    {
     "data": {
      "text/plain": [
       "0.43679023236814946"
      ]
     },
     "execution_count": 12,
     "metadata": {},
     "output_type": "execute_result"
    }
   ],
   "source": [
    "#Next, we use sympy to find a value for the optimal interest rate\n",
    "opt_r_func = sm.lambdify((A,K,L,alpha),opt_r) \n",
    "print('The optimal interest rate is:')\n",
    "opt_r_func(1,1.5,1,1/3) #NOTE: The number are random"
   ]
  },
  {
   "cell_type": "code",
   "execution_count": null,
   "metadata": {},
   "outputs": [],
   "source": []
  }
 ],
 "metadata": {
  "kernelspec": {
   "display_name": "Python 3",
   "language": "python",
   "name": "python3"
  },
  "language_info": {
   "codemirror_mode": {
    "name": "ipython",
    "version": 3
   },
   "file_extension": ".py",
   "mimetype": "text/x-python",
   "name": "python",
   "nbconvert_exporter": "python",
   "pygments_lexer": "ipython3",
   "version": "3.7.4"
  }
 },
 "nbformat": 4,
 "nbformat_minor": 4
}
